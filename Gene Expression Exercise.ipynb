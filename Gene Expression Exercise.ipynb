{
 "cells": [
  {
   "cell_type": "markdown",
   "metadata": {},
   "source": [
    "# Imports"
   ]
  },
  {
   "cell_type": "code",
   "execution_count": 1,
   "metadata": {},
   "outputs": [],
   "source": [
    "import numpy as np\n",
    "import pandas as pd\n",
    "import matplotlib.pyplot as plt\n",
    "from matplotlib.ticker import MultipleLocator\n",
    "import seaborn as sns\n",
    "from scipy.stats import chi2_contingency\n",
    "from scipy.stats import zscore\n",
    "from scipy.stats import pointbiserialr\n",
    "from sklearn.preprocessing import RobustScaler\n",
    "from sklearn.model_selection import train_test_split\n",
    "from sklearn.preprocessing import StandardScaler\n",
    "from sklearn.ensemble import RandomForestClassifier\n",
    "from sklearn.linear_model import LogisticRegression\n",
    "from xgboost import XGBClassifier\n",
    "from sklearn import svm\n",
    "from sklearn.model_selection import RandomizedSearchCV\n",
    "from scipy.stats import uniform, randint\n",
    "import joblib\n",
    "from xgboost import plot_importance\n",
    "from sklearn.metrics import accuracy_score, confusion_matrix, classification_report, precision_score, recall_score, ConfusionMatrixDisplay, f1_score"
   ]
  },
  {
   "cell_type": "markdown",
   "metadata": {},
   "source": [
    "# Data Loading"
   ]
  },
  {
   "cell_type": "code",
   "execution_count": 2,
   "metadata": {},
   "outputs": [],
   "source": [
    "imported_data = pd.read_excel('Interview_data_set_gene_exp_sythentic_data_candidates.xlsx', sheet_name= 'Data')"
   ]
  },
  {
   "cell_type": "code",
   "execution_count": 3,
   "metadata": {},
   "outputs": [
    {
     "data": {
      "text/html": [
       "<div>\n",
       "<style scoped>\n",
       "    .dataframe tbody tr th:only-of-type {\n",
       "        vertical-align: middle;\n",
       "    }\n",
       "\n",
       "    .dataframe tbody tr th {\n",
       "        vertical-align: top;\n",
       "    }\n",
       "\n",
       "    .dataframe thead th {\n",
       "        text-align: right;\n",
       "    }\n",
       "</style>\n",
       "<table border=\"1\" class=\"dataframe\">\n",
       "  <thead>\n",
       "    <tr style=\"text-align: right;\">\n",
       "      <th></th>\n",
       "      <th>Disease_state</th>\n",
       "      <th>Age</th>\n",
       "      <th>Sex</th>\n",
       "      <th>Physical_activity</th>\n",
       "      <th>Mental_wellbeing</th>\n",
       "      <th>Var_X100000</th>\n",
       "      <th>Var_X100001</th>\n",
       "      <th>Var_X100002</th>\n",
       "      <th>Var_X100003</th>\n",
       "      <th>Var_X100004</th>\n",
       "      <th>...</th>\n",
       "      <th>Var_X100255</th>\n",
       "      <th>Var_X100256</th>\n",
       "      <th>Var_X100257</th>\n",
       "      <th>Var_X100258</th>\n",
       "      <th>Var_X100259</th>\n",
       "      <th>Var_X100260</th>\n",
       "      <th>Var_X100261</th>\n",
       "      <th>Var_X100262</th>\n",
       "      <th>Var_X100263</th>\n",
       "      <th>Var_X100264</th>\n",
       "    </tr>\n",
       "  </thead>\n",
       "  <tbody>\n",
       "    <tr>\n",
       "      <th>0</th>\n",
       "      <td>Familial_hypercholesterolemia</td>\n",
       "      <td>28</td>\n",
       "      <td>Female</td>\n",
       "      <td>Sedentary</td>\n",
       "      <td>Poor</td>\n",
       "      <td>1.360160</td>\n",
       "      <td>0.030116</td>\n",
       "      <td>0.747095</td>\n",
       "      <td>1.661465</td>\n",
       "      <td>0.434667</td>\n",
       "      <td>...</td>\n",
       "      <td>0.720131</td>\n",
       "      <td>1.962250</td>\n",
       "      <td>0.761477</td>\n",
       "      <td>0.478506</td>\n",
       "      <td>0.832663</td>\n",
       "      <td>0.870216</td>\n",
       "      <td>2.341985</td>\n",
       "      <td>0.391669</td>\n",
       "      <td>-1.075727</td>\n",
       "      <td>0.467369</td>\n",
       "    </tr>\n",
       "    <tr>\n",
       "      <th>1</th>\n",
       "      <td>Familial_hypercholesterolemia</td>\n",
       "      <td>20</td>\n",
       "      <td>Male</td>\n",
       "      <td>Sedentary</td>\n",
       "      <td>Poor</td>\n",
       "      <td>1.819418</td>\n",
       "      <td>1.743250</td>\n",
       "      <td>2.302410</td>\n",
       "      <td>2.059035</td>\n",
       "      <td>2.479471</td>\n",
       "      <td>...</td>\n",
       "      <td>1.535071</td>\n",
       "      <td>2.036048</td>\n",
       "      <td>0.730948</td>\n",
       "      <td>-0.045124</td>\n",
       "      <td>0.987104</td>\n",
       "      <td>1.811872</td>\n",
       "      <td>2.569236</td>\n",
       "      <td>1.948865</td>\n",
       "      <td>1.282326</td>\n",
       "      <td>0.919973</td>\n",
       "    </tr>\n",
       "    <tr>\n",
       "      <th>2</th>\n",
       "      <td>Familial_hypercholesterolemia</td>\n",
       "      <td>79</td>\n",
       "      <td>Male</td>\n",
       "      <td>Sedentary</td>\n",
       "      <td>Poor</td>\n",
       "      <td>1.856348</td>\n",
       "      <td>1.362939</td>\n",
       "      <td>1.767173</td>\n",
       "      <td>1.740018</td>\n",
       "      <td>1.534536</td>\n",
       "      <td>...</td>\n",
       "      <td>1.145936</td>\n",
       "      <td>1.193780</td>\n",
       "      <td>0.545182</td>\n",
       "      <td>-0.211529</td>\n",
       "      <td>1.016802</td>\n",
       "      <td>1.312096</td>\n",
       "      <td>2.355822</td>\n",
       "      <td>1.798541</td>\n",
       "      <td>0.181833</td>\n",
       "      <td>0.601182</td>\n",
       "    </tr>\n",
       "    <tr>\n",
       "      <th>3</th>\n",
       "      <td>Familial_hypercholesterolemia</td>\n",
       "      <td>35</td>\n",
       "      <td>Male</td>\n",
       "      <td>Light intensity</td>\n",
       "      <td>Fair</td>\n",
       "      <td>1.904581</td>\n",
       "      <td>2.196192</td>\n",
       "      <td>2.590662</td>\n",
       "      <td>1.885223</td>\n",
       "      <td>2.490902</td>\n",
       "      <td>...</td>\n",
       "      <td>1.512613</td>\n",
       "      <td>2.043382</td>\n",
       "      <td>0.464402</td>\n",
       "      <td>0.555012</td>\n",
       "      <td>0.291832</td>\n",
       "      <td>2.100558</td>\n",
       "      <td>1.971800</td>\n",
       "      <td>2.168909</td>\n",
       "      <td>1.521835</td>\n",
       "      <td>1.151861</td>\n",
       "    </tr>\n",
       "    <tr>\n",
       "      <th>4</th>\n",
       "      <td>Familial_hypercholesterolemia</td>\n",
       "      <td>46</td>\n",
       "      <td>Male</td>\n",
       "      <td>Vigorous intensity</td>\n",
       "      <td>Fair</td>\n",
       "      <td>1.913574</td>\n",
       "      <td>0.951858</td>\n",
       "      <td>1.343247</td>\n",
       "      <td>1.910109</td>\n",
       "      <td>0.265609</td>\n",
       "      <td>...</td>\n",
       "      <td>0.798619</td>\n",
       "      <td>1.431647</td>\n",
       "      <td>1.186902</td>\n",
       "      <td>0.832427</td>\n",
       "      <td>0.467380</td>\n",
       "      <td>1.385796</td>\n",
       "      <td>2.244478</td>\n",
       "      <td>1.293610</td>\n",
       "      <td>-0.063512</td>\n",
       "      <td>0.659144</td>\n",
       "    </tr>\n",
       "  </tbody>\n",
       "</table>\n",
       "<p>5 rows × 270 columns</p>\n",
       "</div>"
      ],
      "text/plain": [
       "                   Disease_state  Age     Sex   Physical_activity  \\\n",
       "0  Familial_hypercholesterolemia   28  Female           Sedentary   \n",
       "1  Familial_hypercholesterolemia   20    Male           Sedentary   \n",
       "2  Familial_hypercholesterolemia   79    Male           Sedentary   \n",
       "3  Familial_hypercholesterolemia   35    Male     Light intensity   \n",
       "4  Familial_hypercholesterolemia   46    Male  Vigorous intensity   \n",
       "\n",
       "  Mental_wellbeing  Var_X100000  Var_X100001  Var_X100002  Var_X100003  \\\n",
       "0             Poor     1.360160     0.030116     0.747095     1.661465   \n",
       "1             Poor     1.819418     1.743250     2.302410     2.059035   \n",
       "2             Poor     1.856348     1.362939     1.767173     1.740018   \n",
       "3             Fair     1.904581     2.196192     2.590662     1.885223   \n",
       "4             Fair     1.913574     0.951858     1.343247     1.910109   \n",
       "\n",
       "   Var_X100004  ...  Var_X100255  Var_X100256  Var_X100257  Var_X100258  \\\n",
       "0     0.434667  ...     0.720131     1.962250     0.761477     0.478506   \n",
       "1     2.479471  ...     1.535071     2.036048     0.730948    -0.045124   \n",
       "2     1.534536  ...     1.145936     1.193780     0.545182    -0.211529   \n",
       "3     2.490902  ...     1.512613     2.043382     0.464402     0.555012   \n",
       "4     0.265609  ...     0.798619     1.431647     1.186902     0.832427   \n",
       "\n",
       "   Var_X100259  Var_X100260  Var_X100261  Var_X100262  Var_X100263  \\\n",
       "0     0.832663     0.870216     2.341985     0.391669    -1.075727   \n",
       "1     0.987104     1.811872     2.569236     1.948865     1.282326   \n",
       "2     1.016802     1.312096     2.355822     1.798541     0.181833   \n",
       "3     0.291832     2.100558     1.971800     2.168909     1.521835   \n",
       "4     0.467380     1.385796     2.244478     1.293610    -0.063512   \n",
       "\n",
       "   Var_X100264  \n",
       "0     0.467369  \n",
       "1     0.919973  \n",
       "2     0.601182  \n",
       "3     1.151861  \n",
       "4     0.659144  \n",
       "\n",
       "[5 rows x 270 columns]"
      ]
     },
     "execution_count": 3,
     "metadata": {},
     "output_type": "execute_result"
    }
   ],
   "source": [
    "imported_data.head()"
   ]
  },
  {
   "cell_type": "markdown",
   "metadata": {},
   "source": [
    "# Data Exploration"
   ]
  },
  {
   "cell_type": "markdown",
   "metadata": {},
   "source": [
    "This section will go through some initial exploration of the data as is. It will address two of the director’s asks: which gene variants might be most influential and how demographic & self-reported health measures correlate with the disease."
   ]
  },
  {
   "cell_type": "code",
   "execution_count": 4,
   "metadata": {},
   "outputs": [],
   "source": [
    "raw_data = imported_data.copy()"
   ]
  },
  {
   "cell_type": "markdown",
   "metadata": {},
   "source": [
    "### Numerical Features"
   ]
  },
  {
   "cell_type": "code",
   "execution_count": 5,
   "metadata": {},
   "outputs": [
    {
     "data": {
      "text/html": [
       "<div>\n",
       "<style scoped>\n",
       "    .dataframe tbody tr th:only-of-type {\n",
       "        vertical-align: middle;\n",
       "    }\n",
       "\n",
       "    .dataframe tbody tr th {\n",
       "        vertical-align: top;\n",
       "    }\n",
       "\n",
       "    .dataframe thead th {\n",
       "        text-align: right;\n",
       "    }\n",
       "</style>\n",
       "<table border=\"1\" class=\"dataframe\">\n",
       "  <thead>\n",
       "    <tr style=\"text-align: right;\">\n",
       "      <th></th>\n",
       "      <th>Age</th>\n",
       "      <th>Var_X100000</th>\n",
       "      <th>Var_X100001</th>\n",
       "      <th>Var_X100002</th>\n",
       "      <th>Var_X100003</th>\n",
       "      <th>Var_X100004</th>\n",
       "      <th>Var_X100005</th>\n",
       "      <th>Var_X100006</th>\n",
       "      <th>Var_X100007</th>\n",
       "      <th>Var_X100008</th>\n",
       "      <th>...</th>\n",
       "      <th>Var_X100255</th>\n",
       "      <th>Var_X100256</th>\n",
       "      <th>Var_X100257</th>\n",
       "      <th>Var_X100258</th>\n",
       "      <th>Var_X100259</th>\n",
       "      <th>Var_X100260</th>\n",
       "      <th>Var_X100261</th>\n",
       "      <th>Var_X100262</th>\n",
       "      <th>Var_X100263</th>\n",
       "      <th>Var_X100264</th>\n",
       "    </tr>\n",
       "  </thead>\n",
       "  <tbody>\n",
       "    <tr>\n",
       "      <th>count</th>\n",
       "      <td>2761.000000</td>\n",
       "      <td>2761.000000</td>\n",
       "      <td>2761.000000</td>\n",
       "      <td>2761.000000</td>\n",
       "      <td>2761.000000</td>\n",
       "      <td>2761.000000</td>\n",
       "      <td>2761.000000</td>\n",
       "      <td>2761.000000</td>\n",
       "      <td>2761.000000</td>\n",
       "      <td>2761.000000</td>\n",
       "      <td>...</td>\n",
       "      <td>2761.000000</td>\n",
       "      <td>2761.000000</td>\n",
       "      <td>2761.000000</td>\n",
       "      <td>2761.000000</td>\n",
       "      <td>2761.000000</td>\n",
       "      <td>2761.000000</td>\n",
       "      <td>2761.000000</td>\n",
       "      <td>2761.000000</td>\n",
       "      <td>2761.000000</td>\n",
       "      <td>2761.000000</td>\n",
       "    </tr>\n",
       "    <tr>\n",
       "      <th>mean</th>\n",
       "      <td>50.143426</td>\n",
       "      <td>2.706177</td>\n",
       "      <td>2.248176</td>\n",
       "      <td>2.483213</td>\n",
       "      <td>2.308567</td>\n",
       "      <td>2.106787</td>\n",
       "      <td>2.750460</td>\n",
       "      <td>2.273741</td>\n",
       "      <td>1.779848</td>\n",
       "      <td>2.502444</td>\n",
       "      <td>...</td>\n",
       "      <td>1.470707</td>\n",
       "      <td>1.647513</td>\n",
       "      <td>0.936416</td>\n",
       "      <td>0.639329</td>\n",
       "      <td>1.066499</td>\n",
       "      <td>2.111452</td>\n",
       "      <td>2.219303</td>\n",
       "      <td>2.093933</td>\n",
       "      <td>1.223292</td>\n",
       "      <td>0.881793</td>\n",
       "    </tr>\n",
       "    <tr>\n",
       "      <th>std</th>\n",
       "      <td>16.892834</td>\n",
       "      <td>0.343680</td>\n",
       "      <td>0.316670</td>\n",
       "      <td>0.316393</td>\n",
       "      <td>0.296052</td>\n",
       "      <td>0.328476</td>\n",
       "      <td>0.346972</td>\n",
       "      <td>0.379903</td>\n",
       "      <td>0.341473</td>\n",
       "      <td>0.333680</td>\n",
       "      <td>...</td>\n",
       "      <td>0.129631</td>\n",
       "      <td>0.201906</td>\n",
       "      <td>0.264254</td>\n",
       "      <td>0.458070</td>\n",
       "      <td>0.250343</td>\n",
       "      <td>0.189014</td>\n",
       "      <td>0.150415</td>\n",
       "      <td>0.163038</td>\n",
       "      <td>0.249683</td>\n",
       "      <td>0.073678</td>\n",
       "    </tr>\n",
       "    <tr>\n",
       "      <th>min</th>\n",
       "      <td>4.000000</td>\n",
       "      <td>1.360160</td>\n",
       "      <td>0.030116</td>\n",
       "      <td>0.747095</td>\n",
       "      <td>1.152706</td>\n",
       "      <td>0.250401</td>\n",
       "      <td>1.762087</td>\n",
       "      <td>0.471531</td>\n",
       "      <td>-0.437249</td>\n",
       "      <td>1.591790</td>\n",
       "      <td>...</td>\n",
       "      <td>0.340235</td>\n",
       "      <td>0.782003</td>\n",
       "      <td>-0.283451</td>\n",
       "      <td>-0.456383</td>\n",
       "      <td>0.087963</td>\n",
       "      <td>0.870216</td>\n",
       "      <td>1.550020</td>\n",
       "      <td>0.298022</td>\n",
       "      <td>-1.075727</td>\n",
       "      <td>0.467369</td>\n",
       "    </tr>\n",
       "    <tr>\n",
       "      <th>25%</th>\n",
       "      <td>38.000000</td>\n",
       "      <td>2.426286</td>\n",
       "      <td>2.004610</td>\n",
       "      <td>2.230944</td>\n",
       "      <td>2.078092</td>\n",
       "      <td>1.860158</td>\n",
       "      <td>2.462559</td>\n",
       "      <td>2.008862</td>\n",
       "      <td>1.550120</td>\n",
       "      <td>2.249400</td>\n",
       "      <td>...</td>\n",
       "      <td>1.403207</td>\n",
       "      <td>1.523081</td>\n",
       "      <td>0.774206</td>\n",
       "      <td>0.274397</td>\n",
       "      <td>0.912879</td>\n",
       "      <td>1.998881</td>\n",
       "      <td>2.135521</td>\n",
       "      <td>2.015324</td>\n",
       "      <td>1.115497</td>\n",
       "      <td>0.835525</td>\n",
       "    </tr>\n",
       "    <tr>\n",
       "      <th>50%</th>\n",
       "      <td>52.000000</td>\n",
       "      <td>2.688863</td>\n",
       "      <td>2.245194</td>\n",
       "      <td>2.484510</td>\n",
       "      <td>2.291399</td>\n",
       "      <td>2.096951</td>\n",
       "      <td>2.735642</td>\n",
       "      <td>2.270003</td>\n",
       "      <td>1.760742</td>\n",
       "      <td>2.495142</td>\n",
       "      <td>...</td>\n",
       "      <td>1.476294</td>\n",
       "      <td>1.642298</td>\n",
       "      <td>0.953264</td>\n",
       "      <td>0.618546</td>\n",
       "      <td>1.096994</td>\n",
       "      <td>2.139447</td>\n",
       "      <td>2.228569</td>\n",
       "      <td>2.106441</td>\n",
       "      <td>1.261091</td>\n",
       "      <td>0.883416</td>\n",
       "    </tr>\n",
       "    <tr>\n",
       "      <th>75%</th>\n",
       "      <td>63.000000</td>\n",
       "      <td>2.978024</td>\n",
       "      <td>2.478021</td>\n",
       "      <td>2.728423</td>\n",
       "      <td>2.533082</td>\n",
       "      <td>2.353095</td>\n",
       "      <td>3.027942</td>\n",
       "      <td>2.547027</td>\n",
       "      <td>1.996180</td>\n",
       "      <td>2.756696</td>\n",
       "      <td>...</td>\n",
       "      <td>1.549368</td>\n",
       "      <td>1.769457</td>\n",
       "      <td>1.120548</td>\n",
       "      <td>0.978257</td>\n",
       "      <td>1.239630</td>\n",
       "      <td>2.247820</td>\n",
       "      <td>2.318470</td>\n",
       "      <td>2.188340</td>\n",
       "      <td>1.368438</td>\n",
       "      <td>0.930703</td>\n",
       "    </tr>\n",
       "    <tr>\n",
       "      <th>max</th>\n",
       "      <td>95.000000</td>\n",
       "      <td>3.575112</td>\n",
       "      <td>3.232623</td>\n",
       "      <td>3.351368</td>\n",
       "      <td>3.167269</td>\n",
       "      <td>3.264631</td>\n",
       "      <td>3.731052</td>\n",
       "      <td>3.401256</td>\n",
       "      <td>3.147517</td>\n",
       "      <td>3.517079</td>\n",
       "      <td>...</td>\n",
       "      <td>1.880338</td>\n",
       "      <td>2.487849</td>\n",
       "      <td>1.784497</td>\n",
       "      <td>2.054977</td>\n",
       "      <td>1.879617</td>\n",
       "      <td>2.574267</td>\n",
       "      <td>2.693816</td>\n",
       "      <td>2.658966</td>\n",
       "      <td>2.041180</td>\n",
       "      <td>1.151861</td>\n",
       "    </tr>\n",
       "  </tbody>\n",
       "</table>\n",
       "<p>8 rows × 266 columns</p>\n",
       "</div>"
      ],
      "text/plain": [
       "               Age  Var_X100000  Var_X100001  Var_X100002  Var_X100003  \\\n",
       "count  2761.000000  2761.000000  2761.000000  2761.000000  2761.000000   \n",
       "mean     50.143426     2.706177     2.248176     2.483213     2.308567   \n",
       "std      16.892834     0.343680     0.316670     0.316393     0.296052   \n",
       "min       4.000000     1.360160     0.030116     0.747095     1.152706   \n",
       "25%      38.000000     2.426286     2.004610     2.230944     2.078092   \n",
       "50%      52.000000     2.688863     2.245194     2.484510     2.291399   \n",
       "75%      63.000000     2.978024     2.478021     2.728423     2.533082   \n",
       "max      95.000000     3.575112     3.232623     3.351368     3.167269   \n",
       "\n",
       "       Var_X100004  Var_X100005  Var_X100006  Var_X100007  Var_X100008  ...  \\\n",
       "count  2761.000000  2761.000000  2761.000000  2761.000000  2761.000000  ...   \n",
       "mean      2.106787     2.750460     2.273741     1.779848     2.502444  ...   \n",
       "std       0.328476     0.346972     0.379903     0.341473     0.333680  ...   \n",
       "min       0.250401     1.762087     0.471531    -0.437249     1.591790  ...   \n",
       "25%       1.860158     2.462559     2.008862     1.550120     2.249400  ...   \n",
       "50%       2.096951     2.735642     2.270003     1.760742     2.495142  ...   \n",
       "75%       2.353095     3.027942     2.547027     1.996180     2.756696  ...   \n",
       "max       3.264631     3.731052     3.401256     3.147517     3.517079  ...   \n",
       "\n",
       "       Var_X100255  Var_X100256  Var_X100257  Var_X100258  Var_X100259  \\\n",
       "count  2761.000000  2761.000000  2761.000000  2761.000000  2761.000000   \n",
       "mean      1.470707     1.647513     0.936416     0.639329     1.066499   \n",
       "std       0.129631     0.201906     0.264254     0.458070     0.250343   \n",
       "min       0.340235     0.782003    -0.283451    -0.456383     0.087963   \n",
       "25%       1.403207     1.523081     0.774206     0.274397     0.912879   \n",
       "50%       1.476294     1.642298     0.953264     0.618546     1.096994   \n",
       "75%       1.549368     1.769457     1.120548     0.978257     1.239630   \n",
       "max       1.880338     2.487849     1.784497     2.054977     1.879617   \n",
       "\n",
       "       Var_X100260  Var_X100261  Var_X100262  Var_X100263  Var_X100264  \n",
       "count  2761.000000  2761.000000  2761.000000  2761.000000  2761.000000  \n",
       "mean      2.111452     2.219303     2.093933     1.223292     0.881793  \n",
       "std       0.189014     0.150415     0.163038     0.249683     0.073678  \n",
       "min       0.870216     1.550020     0.298022    -1.075727     0.467369  \n",
       "25%       1.998881     2.135521     2.015324     1.115497     0.835525  \n",
       "50%       2.139447     2.228569     2.106441     1.261091     0.883416  \n",
       "75%       2.247820     2.318470     2.188340     1.368438     0.930703  \n",
       "max       2.574267     2.693816     2.658966     2.041180     1.151861  \n",
       "\n",
       "[8 rows x 266 columns]"
      ]
     },
     "execution_count": 5,
     "metadata": {},
     "output_type": "execute_result"
    }
   ],
   "source": [
    "raw_data.describe()"
   ]
  },
  {
   "cell_type": "markdown",
   "metadata": {},
   "source": [
    "This data description may indicate the need for scaling of the genetic variant expression features. This would prevent the dominance of features with a large magnitude and improve convergence speed for certain types of machine learning model. Furthermore, the ‘Age’ feature has a range from 4-95. There is an option to bucket these into discrete intervals (25-30, 30-35, etc.) but this option leads to a loss in granularity. This is a feature of importance to the director so it will be scaled in order to preserve granularity and fully understand its correlation with the disease. "
   ]
  },
  {
   "cell_type": "markdown",
   "metadata": {},
   "source": [
    "#### Age"
   ]
  },
  {
   "cell_type": "code",
   "execution_count": 6,
   "metadata": {},
   "outputs": [
    {
     "data": {
      "image/png": "[encoded data removed]",
      "text/plain": [
       "<Figure size 576x432 with 1 Axes>"
      ]
     },
     "metadata": {
      "needs_background": "light"
     },
     "output_type": "display_data"
    }
   ],
   "source": [
    "# Creation of the boxplot\n",
    "plt.figure(figsize=(8, 6))\n",
    "ax = sns.boxplot(x='Disease_state', y='Age', data=raw_data)\n",
    "\n",
    "# The y_axis is given its limits and a major incrementation of 5 allowing for easier interpretability\n",
    "ax.set_ylim(0, 100)\n",
    "ax.yaxis.set_major_locator(MultipleLocator(5))\n",
    "\n",
    "plt.title('Age Distribution by Disease State')\n",
    "plt.ylabel('Age')\n",
    "\n",
    "plt.show()"
   ]
  },
  {
   "cell_type": "markdown",
   "metadata": {},
   "source": [
    "### Categorical Features"
   ]
  },
  {
   "cell_type": "markdown",
   "metadata": {},
   "source": [
    "#### Disease States"
   ]
  },
  {
   "cell_type": "code",
   "execution_count": 7,
   "metadata": {},
   "outputs": [
    {
     "data": {
      "image/png": "[encoded data removed]",
      "text/plain": [
       "<Figure size 720x432 with 1 Axes>"
      ]
     },
     "metadata": {
      "needs_background": "light"
     },
     "output_type": "display_data"
    }
   ],
   "source": [
    "# Get a count from the Disease states target variable\n",
    "disease_state_counts = raw_data['Disease_state'].value_counts()\n",
    "\n",
    "#Plotting a bar graph for visualisation purposes\n",
    "plt.figure(figsize=(10, 6))\n",
    "bar_plot = disease_state_counts.plot(kind='bar', color=['blue', 'red'])\n",
    "\n",
    "# This adds data labels on the bars\n",
    "for index, value in enumerate(disease_state_counts):\n",
    "    plt.text(index, value, str(value), ha='center', va='bottom')\n",
    "\n",
    "\n",
    "plt.title('Count of Disease States')\n",
    "plt.xlabel('Disease State')\n",
    "plt.ylabel('Count')\n",
    "plt.xticks(rotation=0)\n",
    "plt.show()"
   ]
  },
  {
   "cell_type": "markdown",
   "metadata": {},
   "source": [
    "It is evident from the graph that there is class imbalance in this dataset. This will be addressed in the feature engineering section."
   ]
  },
  {
   "cell_type": "markdown",
   "metadata": {},
   "source": [
    "#### Sex"
   ]
  },
  {
   "cell_type": "code",
   "execution_count": 8,
   "metadata": {},
   "outputs": [
    {
     "data": {
      "image/png": "[encoded data removed]",
      "text/plain": [
       "<Figure size 720x432 with 1 Axes>"
      ]
     },
     "metadata": {
      "needs_background": "light"
     },
     "output_type": "display_data"
    }
   ],
   "source": [
    "# Get a count from the Sex variable\n",
    "Sex_counts = raw_data['Sex'].value_counts()\n",
    "\n",
    "#Plotting a bar graph for visualisation purposes\n",
    "plt.figure(figsize=(10, 6))\n",
    "bar_plot = Sex_counts.plot(kind='bar')\n",
    "\n",
    "# This adds data labels on the bars\n",
    "for index, value in enumerate(Sex_counts):\n",
    "    plt.text(index, value, str(value), ha='center', va='bottom')\n",
    "\n",
    "\n",
    "plt.title('Count of Sexes')\n",
    "plt.xlabel('Sex')\n",
    "plt.ylabel('Count')\n",
    "plt.xticks(rotation=0)\n",
    "plt.show()"
   ]
  },
  {
   "cell_type": "code",
   "execution_count": 9,
   "metadata": {},
   "outputs": [
    {
     "name": "stdout",
     "output_type": "stream",
     "text": [
      "       count unique                            top  freq\n",
      "Sex                                                     \n",
      "Female  1421      2  Familial_hypercholesterolemia  1083\n",
      "Male    1340      2  Familial_hypercholesterolemia  1130\n"
     ]
    }
   ],
   "source": [
    "# Here will print the summary statistics for the disease state variable grouped by Sex\n",
    "summary_stats = raw_data.groupby('Sex')['Disease_state'].describe()\n",
    "print(summary_stats)"
   ]
  },
  {
   "cell_type": "code",
   "execution_count": 10,
   "metadata": {},
   "outputs": [
    {
     "data": {
      "image/png": "[encoded data removed]",
      "text/plain": [
       "<Figure size 576x432 with 1 Axes>"
      ]
     },
     "metadata": {
      "needs_background": "light"
     },
     "output_type": "display_data"
    }
   ],
   "source": [
    "# Create the countplot\n",
    "plt.figure(figsize=(8, 6))\n",
    "ax = sns.countplot(x='Sex', hue= 'Disease_state', data=raw_data)\n",
    "\n",
    "# This adds data labels on the bars\n",
    "for p in ax.patches:\n",
    "    ax.annotate(f'{p.get_height()}', \n",
    "                (p.get_x() + p.get_width() / 2., p.get_height()), \n",
    "                ha='center', va='center', \n",
    "                xytext=(0, 5), \n",
    "                textcoords='offset points')\n",
    "\n",
    "plt.title('Count of Disease States By Gender')\n",
    "plt.xlabel('Disease State')\n",
    "plt.ylabel('Count')\n",
    "plt.show()"
   ]
  },
  {
   "cell_type": "markdown",
   "metadata": {},
   "source": [
    "#### Physical Activity"
   ]
  },
  {
   "cell_type": "code",
   "execution_count": 11,
   "metadata": {},
   "outputs": [
    {
     "data": {
      "image/png": "[encoded data removed]",
      "text/plain": [
       "<Figure size 720x432 with 1 Axes>"
      ]
     },
     "metadata": {
      "needs_background": "light"
     },
     "output_type": "display_data"
    }
   ],
   "source": [
    "# Get a count from the Physical Activity variable\n",
    "Physical_Activity_counts = raw_data['Physical_activity'].value_counts()\n",
    "\n",
    "#Plotting a bar graph for visualisation purposes\n",
    "plt.figure(figsize=(10, 6))\n",
    "bar_plot = Physical_Activity_counts.plot(kind='bar')\n",
    "\n",
    "# This adds data labels on the bars\n",
    "for index, value in enumerate(Physical_Activity_counts):\n",
    "    plt.text(index, value, str(value), ha='center', va='bottom')\n",
    "\n",
    "\n",
    "plt.title('Count of Physical_Activity')\n",
    "plt.xlabel('Physical_Activity')\n",
    "plt.ylabel('Count')\n",
    "plt.xticks(rotation=0)\n",
    "plt.show()"
   ]
  },
  {
   "cell_type": "code",
   "execution_count": 18,
   "metadata": {},
   "outputs": [
    {
     "data": {
      "text/plain": [
       "array(['Sedentary', 'Light intensity', 'Vigorous intensity',\n",
       "       'Moderate intensity'], dtype=object)"
      ]
     },
     "execution_count": 18,
     "metadata": {},
     "output_type": "execute_result"
    }
   ],
   "source": [
    "raw_data['Physical_activity'].unique()"
   ]
  },
  {
   "cell_type": "code",
   "execution_count": 19,
   "metadata": {},
   "outputs": [
    {
     "data": {
      "image/png": "[encoded data removed]",
      "text/plain": [
       "<Figure size 576x432 with 1 Axes>"
      ]
     },
     "metadata": {
      "needs_background": "light"
     },
     "output_type": "display_data"
    }
   ],
   "source": [
    "# Create the countplot\n",
    "plt.figure(figsize=(8, 6))\n",
    "ax = sns.countplot(x='Physical_activity', hue= 'Disease_state', data=raw_data, order = ['Sedentary', 'Light intensity','Moderate intensity', 'Vigorous intensity',\n",
    "       ] )\n",
    "\n",
    "# Add data labels on the bars\n",
    "for p in ax.patches:\n",
    "    ax.annotate(f'{p.get_height()}', \n",
    "                (p.get_x() + p.get_width() / 2., p.get_height()), \n",
    "                ha='center', va='center', \n",
    "                xytext=(0, 5), \n",
    "                textcoords='offset points')\n",
    "\n",
    "plt.title('Count of Disease States by Physical Activity')\n",
    "plt.xlabel('Disease State')\n",
    "plt.ylabel('Count')\n",
    "plt.show()"
   ]
  },
  {
   "cell_type": "markdown",
   "metadata": {},
   "source": [
    "#### Mental_wellbeing"
   ]
  },
  {
   "cell_type": "code",
   "execution_count": 21,
   "metadata": {},
   "outputs": [
    {
     "data": {
      "image/png": "[encoded data removed]",
      "text/plain": [
       "<Figure size 720x432 with 1 Axes>"
      ]
     },
     "metadata": {
      "needs_background": "light"
     },
     "output_type": "display_data"
    }
   ],
   "source": [
    "# Get a count from the Mental_wellbeing variable\n",
    "Mental_wellbeing_counts = raw_data['Mental_wellbeing'].value_counts()\n",
    "\n",
    "#Plotting a bar graph for visualisation purposes\n",
    "plt.figure(figsize=(10, 6))\n",
    "bar_plot = Mental_wellbeing_counts.plot(kind='bar')\n",
    "\n",
    "# This adds data labels on the bars\n",
    "for index, value in enumerate(Mental_wellbeing_counts):\n",
    "    plt.text(index, value, str(value), ha='center', va='bottom')\n",
    "\n",
    "\n",
    "plt.title('Count of Mental_wellbeing')\n",
    "plt.xlabel('Mental_wellbeing')\n",
    "plt.ylabel('Count')\n",
    "plt.xticks(rotation=0)\n",
    "plt.show()"
   ]
  },
  {
   "cell_type": "code",
   "execution_count": 23,
   "metadata": {},
   "outputs": [
    {
     "data": {
      "image/png": "[encoded data removed]",
      "text/plain": [
       "<Figure size 576x432 with 1 Axes>"
      ]
     },
     "metadata": {
      "needs_background": "light"
     },
     "output_type": "display_data"
    }
   ],
   "source": [
    "# Create the countplot\n",
    "plt.figure(figsize=(8, 6))\n",
    "ax = sns.countplot(x='Mental_wellbeing', hue= 'Disease_state', data=raw_data, order = ['Very good', 'Good','Fair', 'Poor', 'Very poor'])\n",
    "\n",
    "# This adds data labels on the bars\n",
    "for p in ax.patches:\n",
    "    ax.annotate(f'{p.get_height()}', \n",
    "                (p.get_x() + p.get_width() / 2., p.get_height()), \n",
    "                ha='center', va='center', \n",
    "                xytext=(0, 5), \n",
    "                textcoords='offset points')\n",
    "\n",
    "plt.title('Count of Disease States by Mental wellbeing')\n",
    "plt.xlabel('Disease State')\n",
    "plt.ylabel('Count')\n",
    "plt.show()"
   ]
  },
  {
   "cell_type": "markdown",
   "metadata": {},
   "source": [
    "### Demographic and reported health measures correlation with disease state"
   ]
  },
  {
   "cell_type": "markdown",
   "metadata": {},
   "source": [
    "To determine these correlations, two statistical tests have been chosen. For the categorical measures, the chi-squared test of independence has been selected. It is commonly used to used test whether two categorical variables are related to each other. For the Age variable, a point biserial correlation has been chosen to examine the relationship between dichotomous variables and metric variables."
   ]
  },
  {
   "cell_type": "markdown",
   "metadata": {},
   "source": [
    "#### Sex"
   ]
  },
  {
   "cell_type": "code",
   "execution_count": 24,
   "metadata": {},
   "outputs": [
    {
     "name": "stdout",
     "output_type": "stream",
     "text": [
      "Disease_state  Familial_hypercholesterolemia  None\n",
      "Sex                                               \n",
      "Female                                  1083   338\n",
      "Male                                    1130   210\n",
      "Reject the null hypothesis: There is a significant association between Sex and Disease state.\n"
     ]
    }
   ],
   "source": [
    "# Create a contingency table\n",
    "sex_contingency_table = pd.crosstab(raw_data['Sex'], raw_data['Disease_state'])\n",
    "print(sex_contingency_table)\n",
    "\n",
    "# Perform chi-square test\n",
    "chi2, p, dof, expected = chi2_contingency(sex_contingency_table)\n",
    "\n",
    "\n",
    "# Significance level is set at 0.05 as this is the most commonly used.\n",
    "alpha = 0.05\n",
    "\n",
    "# Compare p-value to significance level\n",
    "if p < alpha:\n",
    "    print(\"Reject the null hypothesis: There is a significant association between Sex and Disease state.\")\n",
    "else:\n",
    "    print(\"Fail to reject the null hypothesis: There is no significant association between Sex and Disease state.\")"
   ]
  },
  {
   "cell_type": "markdown",
   "metadata": {},
   "source": [
    "#### Physical_activity"
   ]
  },
  {
   "cell_type": "code",
   "execution_count": 25,
   "metadata": {},
   "outputs": [
    {
     "name": "stdout",
     "output_type": "stream",
     "text": [
      "Disease_state       Familial_hypercholesterolemia  None\n",
      "Physical_activity                                      \n",
      "Light intensity                               572   136\n",
      "Moderate intensity                            715   225\n",
      "Sedentary                                     748   104\n",
      "Vigorous intensity                            178    83\n",
      "Reject the null hypothesis: There is a significant association between physical activity and Disease state.\n"
     ]
    }
   ],
   "source": [
    "# Create a contingency table\n",
    "PA_contingency_table = pd.crosstab(raw_data['Physical_activity'], raw_data['Disease_state'])\n",
    "print(PA_contingency_table)\n",
    "\n",
    "# Perform chi-square test\n",
    "chi2, p, dof, expected = chi2_contingency(PA_contingency_table)\n",
    "\n",
    "\n",
    "# Compare p-value to significance level\n",
    "if p < alpha:\n",
    "    print(\"Reject the null hypothesis: There is a significant association between physical activity and Disease state.\")\n",
    "else:\n",
    "    print(\"Fail to reject the null hypothesis: There is no significant association between physical activity and Disease state.\")"
   ]
  },
  {
   "cell_type": "markdown",
   "metadata": {},
   "source": [
    "#### Mental_wellbeing"
   ]
  },
  {
   "cell_type": "code",
   "execution_count": 26,
   "metadata": {},
   "outputs": [
    {
     "name": "stdout",
     "output_type": "stream",
     "text": [
      "Disease_state     Familial_hypercholesterolemia  None\n",
      "Mental_wellbeing                                     \n",
      "Fair                                        789    95\n",
      "Good                                        215   144\n",
      "Poor                                        856    99\n",
      "Very good                                    18   129\n",
      "Very poor                                   335    81\n",
      "Reject the null hypothesis: There is a significant association between mental wellbeing and Disease state.\n"
     ]
    }
   ],
   "source": [
    "# Create a contingency table\n",
    "MW_contingency_table = pd.crosstab(raw_data['Mental_wellbeing'], raw_data['Disease_state'])\n",
    "print(MW_contingency_table)\n",
    "\n",
    "# Perform chi-square test\n",
    "chi2, p, dof, expected = chi2_contingency(MW_contingency_table)\n",
    "\n",
    "# Compare p-value to significance level\n",
    "if p < alpha:\n",
    "    print(\"Reject the null hypothesis: There is a significant association between mental wellbeing and Disease state.\")\n",
    "else:\n",
    "    print(\"Fail to reject the null hypothesis: There is no significant association between mental wellbeing and Disease state.\")"
   ]
  },
  {
   "cell_type": "markdown",
   "metadata": {},
   "source": [
    "#### Age"
   ]
  },
  {
   "cell_type": "code",
   "execution_count": 27,
   "metadata": {},
   "outputs": [],
   "source": [
    "# The module only takes binary encoded values so Distate state is encoded to (0 for 'None', 1 for 'Familial_hypercholesterolemia')\n",
    "raw_data['Disease_state_encoded'] = raw_data['Disease_state'].map({'None': 0, 'Familial_hypercholesterolemia': 1})"
   ]
  },
  {
   "cell_type": "code",
   "execution_count": 28,
   "metadata": {},
   "outputs": [],
   "source": [
    "# Reorder columns to have 'Disease_state_encoded' as the first column\n",
    "cols = ['Disease_state_encoded'] + [col for col in raw_data.columns if col != 'Disease_state_encoded']\n",
    "raw_data = raw_data[cols]"
   ]
  },
  {
   "cell_type": "code",
   "execution_count": 29,
   "metadata": {},
   "outputs": [
    {
     "name": "stdout",
     "output_type": "stream",
     "text": [
      "Point Biserial Correlation: 0.23\n",
      "p-value: 0.00\n",
      "Reject the null hypothesis: There is a significant correlation between Age and Disease state.\n"
     ]
    }
   ],
   "source": [
    "# The scipy point biserial module is used to calculate the point biserial correlation\n",
    "corr, p_value = pointbiserialr(raw_data['Disease_state_encoded'], raw_data['Age'])\n",
    "\n",
    "print(f\"Point Biserial Correlation: {corr:.2f}\")\n",
    "print(f\"p-value: {p_value:.2f}\")\n",
    "\n",
    "# The p-value is set to the common value of 0.05 \n",
    "alpha = 0.05\n",
    "if p_value < alpha:\n",
    "    print(\"Reject the null hypothesis: There is a significant correlation between Age and Disease state.\")\n",
    "else:\n",
    "    print(\"Fail to reject the null hypothesis: There is no significant correlation between Age and Disease state.\")\n"
   ]
  },
  {
   "cell_type": "markdown",
   "metadata": {},
   "source": [
    "# Data Cleaning"
   ]
  },
  {
   "cell_type": "markdown",
   "metadata": {},
   "source": [
    "In this section, data cleaning was performed on the dataset. This involved checking for missing values, duplicates, and outliers.  There were no missing values or duplicates in the dataset. However there were some outliers detected in the dataset as seen below. Outlier analysis was performed using the z-score method.  Thus, outliers are defined as observations that are ±3 standard deviations away from the mean.  ±3 standard deviations was selected because these values are considered extreme. \n",
    "\n",
    "\n",
    "The conclusion reached is that outliers will be retained for the following reasons:\n",
    "\n",
    "Firstly, after sorting the outliers in descending order, it was observed that the maximum number of outliers in any given feature was 59, which is only 0.02% of the total observations. Given this minimal impact, it was deemed unnecessary to remove them.\n",
    "\n",
    "Furthermore, robust scaling has been selected as the scaling method. This approach is inherently capable of handling outliers effectively, ensuring that their presence does not adversely affect the scaled data."
   ]
  },
  {
   "cell_type": "code",
   "execution_count": 30,
   "metadata": {},
   "outputs": [
    {
     "name": "stdout",
     "output_type": "stream",
     "text": [
      "Total missing values: 0\n"
     ]
    }
   ],
   "source": [
    "# Here a check for missing values in the raw dataset was performed\n",
    "missing_values = raw_data.isnull().sum().sum()\n",
    "print(f\"Total missing values: {missing_values}\")"
   ]
  },
  {
   "cell_type": "code",
   "execution_count": 31,
   "metadata": {},
   "outputs": [
    {
     "name": "stdout",
     "output_type": "stream",
     "text": [
      "Number of duplicate rows: 0\n"
     ]
    }
   ],
   "source": [
    "# Here a check for duplicates was performed\n",
    "duplicates = raw_data.duplicated().sum()\n",
    "print(f\"Number of duplicate rows: {duplicates}\")"
   ]
  },
  {
   "cell_type": "code",
   "execution_count": 32,
   "metadata": {},
   "outputs": [],
   "source": [
    "# Checking for outliers begins with removing the categorical columns\n",
    "excluded_columns = ['Disease_state', 'Disease_state_encoded', 'Sex', 'Physical_activity', 'Mental_wellbeing']\n",
    "selected_columns = [col for col in raw_data.columns if col not in excluded_columns]"
   ]
  },
  {
   "cell_type": "code",
   "execution_count": 33,
   "metadata": {},
   "outputs": [],
   "source": [
    "# Z-scores are then calculated for each of the continous columns\n",
    "raw_data_zscores = raw_data[selected_columns].apply(zscore)"
   ]
  },
  {
   "cell_type": "code",
   "execution_count": 34,
   "metadata": {},
   "outputs": [
    {
     "name": "stdout",
     "output_type": "stream",
     "text": [
      "Columns with outliers and their counts in descending order:\n",
      "Var_X100149    59\n",
      "Var_X100200    54\n",
      "Var_X100226    54\n",
      "Var_X100236    51\n",
      "Var_X100181    43\n",
      "Var_X100186    43\n",
      "Var_X100242    39\n",
      "Var_X100189    37\n",
      "Var_X100178    36\n",
      "Var_X100108    36\n",
      "Var_X100086    36\n",
      "Var_X100263    35\n",
      "Var_X100177    35\n",
      "Var_X100166    33\n",
      "Var_X100222    32\n",
      "Var_X100203    32\n",
      "Var_X100240    32\n",
      "Var_X100173    32\n",
      "Var_X100244    32\n",
      "Var_X100190    30\n",
      "Var_X100167    30\n",
      "Var_X100204    29\n",
      "Var_X100153    28\n",
      "Var_X100109    28\n",
      "Var_X100164    27\n",
      "Var_X100105    27\n",
      "Var_X100063    27\n",
      "Var_X100196    27\n",
      "Var_X100249    27\n",
      "Var_X100159    26\n",
      "Var_X100053    26\n",
      "Var_X100114    26\n",
      "Var_X100261    26\n",
      "Var_X100219    25\n",
      "Var_X100207    25\n",
      "Var_X100171    25\n",
      "Var_X100151    25\n",
      "Var_X100254    25\n",
      "Var_X100188    25\n",
      "Var_X100218    25\n",
      "Var_X100146    24\n",
      "Var_X100165    24\n",
      "Var_X100130    24\n",
      "Var_X100217    24\n",
      "Var_X100126    24\n",
      "Var_X100237    24\n",
      "Var_X100069    24\n",
      "Var_X100198    24\n",
      "Var_X100197    24\n",
      "Var_X100143    24\n",
      "Var_X100229    24\n",
      "Var_X100262    24\n",
      "Var_X100081    24\n",
      "Var_X100087    23\n",
      "Var_X100043    23\n",
      "Var_X100145    23\n",
      "Var_X100116    23\n",
      "Var_X100138    23\n",
      "Var_X100241    22\n",
      "Var_X100255    22\n",
      "Var_X100214    22\n",
      "Var_X100220    22\n",
      "Var_X100137    22\n",
      "Var_X100260    22\n",
      "Var_X100152    22\n",
      "Var_X100191    22\n",
      "Var_X100193    22\n",
      "Var_X100179    21\n",
      "Var_X100163    21\n",
      "Var_X100192    21\n",
      "Var_X100147    21\n",
      "Var_X100264    21\n",
      "Var_X100199    21\n",
      "Var_X100243    21\n",
      "Var_X100010    21\n",
      "Var_X100245    21\n",
      "Var_X100127    20\n",
      "Var_X100216    20\n",
      "Var_X100176    20\n",
      "Var_X100257    20\n",
      "Var_X100046    20\n",
      "Var_X100144    20\n",
      "Var_X100154    20\n",
      "Var_X100074    20\n",
      "Var_X100211    19\n",
      "Var_X100195    19\n",
      "Var_X100026    19\n",
      "Var_X100011    19\n",
      "Var_X100115    19\n",
      "Var_X100174    19\n",
      "Var_X100256    19\n",
      "Var_X100037    19\n",
      "Var_X100054    19\n",
      "Var_X100128    19\n",
      "Var_X100044    19\n",
      "Var_X100209    18\n",
      "Var_X100259    18\n",
      "Var_X100117    18\n",
      "Var_X100172    18\n",
      "Var_X100227    18\n",
      "Var_X100018    18\n",
      "Var_X100170    18\n",
      "Var_X100089    18\n",
      "Var_X100052    18\n",
      "Var_X100225    18\n",
      "Var_X100156    17\n",
      "Var_X100125    17\n",
      "Var_X100122    17\n",
      "Var_X100223    17\n",
      "Var_X100210    17\n",
      "Var_X100234    17\n",
      "Var_X100168    17\n",
      "Var_X100029    16\n",
      "Var_X100079    16\n",
      "Var_X100041    16\n",
      "Var_X100133    16\n",
      "Var_X100238    16\n",
      "Var_X100131    16\n",
      "Var_X100068    16\n",
      "Var_X100047    16\n",
      "Var_X100070    16\n",
      "Var_X100120    16\n",
      "Var_X100118    16\n",
      "Var_X100246    16\n",
      "Var_X100093    16\n",
      "Var_X100062    16\n",
      "Var_X100036    16\n",
      "Var_X100202    16\n",
      "Var_X100201    16\n",
      "Var_X100007    16\n",
      "Var_X100031    15\n",
      "Var_X100092    15\n",
      "Var_X100095    15\n",
      "Var_X100107    15\n",
      "Var_X100148    15\n",
      "Var_X100065    15\n",
      "Var_X100048    15\n",
      "Var_X100050    15\n",
      "Var_X100058    15\n",
      "Var_X100208    15\n",
      "Var_X100175    15\n",
      "Var_X100077    15\n",
      "Var_X100013    15\n",
      "Var_X100251    15\n",
      "Var_X100161    15\n",
      "Var_X100228    15\n",
      "Var_X100162    14\n",
      "Var_X100091    14\n",
      "Var_X100169    14\n",
      "Var_X100033    14\n",
      "Var_X100094    14\n",
      "Var_X100205    14\n",
      "Var_X100187    14\n",
      "Var_X100067    13\n",
      "Var_X100038    13\n",
      "Var_X100071    13\n",
      "Var_X100099    13\n",
      "Var_X100098    13\n",
      "Var_X100088    13\n",
      "Var_X100194    13\n",
      "Var_X100124    13\n",
      "Var_X100035    13\n",
      "Var_X100106    13\n",
      "Var_X100250    13\n",
      "Var_X100006    13\n",
      "Var_X100155    13\n",
      "Var_X100111    13\n",
      "Var_X100136    13\n",
      "Var_X100215    13\n",
      "Var_X100032    13\n",
      "Var_X100134    12\n",
      "Var_X100012    12\n",
      "Var_X100102    12\n",
      "Var_X100042    12\n",
      "Var_X100212    12\n",
      "Var_X100158    12\n",
      "Var_X100230    12\n",
      "Var_X100025    12\n",
      "Var_X100022    12\n",
      "Var_X100185    12\n",
      "Var_X100101    12\n",
      "Var_X100049    11\n",
      "Var_X100059    11\n",
      "Var_X100221    11\n",
      "Var_X100004    11\n",
      "Var_X100057    11\n",
      "Var_X100224    11\n",
      "Var_X100150    11\n",
      "Var_X100233    11\n",
      "Var_X100100    11\n",
      "Var_X100139    11\n",
      "Var_X100075    10\n",
      "Var_X100083    10\n",
      "Var_X100017    10\n",
      "Var_X100056    10\n",
      "Var_X100253    10\n",
      "Var_X100103    10\n",
      "Var_X100157    10\n",
      "Var_X100080    10\n",
      "Var_X100140    10\n",
      "Var_X100160     9\n",
      "Var_X100016     9\n",
      "Var_X100121     9\n",
      "Var_X100060     9\n",
      "Var_X100119     9\n",
      "Var_X100112     9\n",
      "Var_X100110     9\n",
      "Var_X100252     9\n",
      "Var_X100030     8\n",
      "Var_X100045     8\n",
      "Var_X100132     8\n",
      "Var_X100183     8\n",
      "Var_X100135     8\n",
      "Var_X100055     8\n",
      "Var_X100213     8\n",
      "Var_X100040     7\n",
      "Var_X100066     7\n",
      "Var_X100076     7\n",
      "Var_X100021     7\n",
      "Var_X100024     7\n",
      "Var_X100039     7\n",
      "Var_X100090     7\n",
      "Var_X100232     7\n",
      "Var_X100235     6\n",
      "Var_X100129     6\n",
      "Var_X100180     6\n",
      "Var_X100231     6\n",
      "Var_X100096     6\n",
      "Var_X100085     6\n",
      "Var_X100023     6\n",
      "Var_X100182     6\n",
      "Var_X100020     6\n",
      "Var_X100001     6\n",
      "Var_X100027     5\n",
      "Var_X100206     5\n",
      "Var_X100141     5\n",
      "Var_X100123     5\n",
      "Var_X100034     5\n",
      "Var_X100084     5\n",
      "Var_X100009     5\n",
      "Var_X100073     5\n",
      "Var_X100239     5\n",
      "Var_X100078     4\n",
      "Var_X100247     4\n",
      "Var_X100028     4\n",
      "Var_X100015     3\n",
      "Var_X100014     3\n",
      "Var_X100002     3\n",
      "Var_X100184     3\n",
      "Var_X100003     3\n",
      "Var_X100113     3\n",
      "Var_X100104     3\n",
      "Var_X100082     3\n",
      "Var_X100064     3\n",
      "Var_X100097     2\n",
      "Var_X100008     2\n",
      "Var_X100072     2\n",
      "Var_X100051     1\n",
      "Var_X100142     1\n",
      "Var_X100258     1\n",
      "Var_X100019     1\n",
      "Var_X100000     1\n",
      "dtype: int64\n"
     ]
    }
   ],
   "source": [
    "# The threshold is set at ±3 standard deviations in order to identify outliers\n",
    "# Values beyond this are considered to be extreme and are likely to be outliers\n",
    "threshold = 3\n",
    "outliers = (raw_data_zscores.abs() > threshold)\n",
    "\n",
    "# Count the number of outliers in each column\n",
    "outliers_count = outliers.sum()\n",
    "\n",
    "# To display only the columns with outliers\n",
    "outliers_count_nonzero = outliers_count[outliers_count > 0]\n",
    "\n",
    "# For visibility, the columns are sorted by the count of outliers in descending order\n",
    "sorted_outliers_count = outliers_count_nonzero.sort_values(ascending=False)\n",
    "\n",
    "pd.set_option('display.max_rows', None)\n",
    "pd.set_option('display.max_columns', None)\n",
    "\n",
    "# Print columns with outliers and their counts in order\n",
    "print(\"Columns with outliers and their counts in descending order:\")\n",
    "print(sorted_outliers_count)"
   ]
  },
  {
   "cell_type": "markdown",
   "metadata": {},
   "source": [
    "# Feature Engineering "
   ]
  },
  {
   "cell_type": "markdown",
   "metadata": {},
   "source": [
    "Sci-kit Learn’s Robust Scaler was chosen as the scaling method. This technique uses the median and the interquartile range for scaling, making it robust against datasets with outliers. This approach was particularly suitable given the presence of outliers in the dataset.\n",
    "\n",
    "Next, dummy variables were created for Sex, Physical Activity, Mental Well-Being, and Disease State. Both mapping and the pandas ‘get_dummies’ method were used to generate these variables.\n"
   ]
  },
  {
   "cell_type": "code",
   "execution_count": 35,
   "metadata": {},
   "outputs": [],
   "source": [
    "preprocessed_data = raw_data.copy()"
   ]
  },
  {
   "cell_type": "code",
   "execution_count": 36,
   "metadata": {},
   "outputs": [],
   "source": [
    "scaler = RobustScaler()"
   ]
  },
  {
   "cell_type": "code",
   "execution_count": 37,
   "metadata": {},
   "outputs": [],
   "source": [
    "preprocessed_data[selected_columns] = scaler.fit_transform(preprocessed_data[selected_columns])"
   ]
  },
  {
   "cell_type": "code",
   "execution_count": 38,
   "metadata": {},
   "outputs": [],
   "source": [
    "data_dummies = [pd.get_dummies(preprocessed_data['Sex'], prefix = 'Sex', prefix_sep = ':'),\n",
    "                pd.get_dummies(preprocessed_data['Physical_activity'], prefix = 'Physical_activity', prefix_sep = ':'),\n",
    "                pd.get_dummies(preprocessed_data['Mental_wellbeing'], prefix = 'Mental_wellbeing', prefix_sep = ':')]"
   ]
  },
  {
   "cell_type": "code",
   "execution_count": 39,
   "metadata": {},
   "outputs": [],
   "source": [
    "data_dummies = pd.concat(data_dummies, axis = 1)"
   ]
  },
  {
   "cell_type": "code",
   "execution_count": 40,
   "metadata": {},
   "outputs": [],
   "source": [
    "preprocessed_data = pd.concat([preprocessed_data, data_dummies], axis = 1)"
   ]
  },
  {
   "cell_type": "code",
   "execution_count": 41,
   "metadata": {},
   "outputs": [],
   "source": [
    "preprocessed_data = preprocessed_data.drop(columns=['Disease_state', 'Sex', 'Physical_activity', 'Mental_wellbeing'])"
   ]
  },
  {
   "cell_type": "markdown",
   "metadata": {},
   "source": [
    "#  Model Training and Evaluation"
   ]
  },
  {
   "cell_type": "markdown",
   "metadata": {},
   "source": [
    "## Data Splitting"
   ]
  },
  {
   "cell_type": "code",
   "execution_count": 42,
   "metadata": {},
   "outputs": [],
   "source": [
    "# The preprocessed data is split into the target y and independent variables X. \n",
    "X = preprocessed_data.drop('Disease_state_encoded', axis=1)\n",
    "y = preprocessed_data['Disease_state_encoded']\n",
    "\n",
    "# Split the data into training and test sets\n",
    "X_train, X_test, y_train, y_test = train_test_split(X, y, test_size=0.2, random_state=42)"
   ]
  },
  {
   "cell_type": "markdown",
   "metadata": {},
   "source": [
    "## Random Forest Classification"
   ]
  },
  {
   "cell_type": "code",
   "execution_count": 43,
   "metadata": {},
   "outputs": [
    {
     "data": {
      "text/plain": [
       "RandomForestClassifier(class_weight='balanced', random_state=42)"
      ]
     },
     "execution_count": 43,
     "metadata": {},
     "output_type": "execute_result"
    }
   ],
   "source": [
    "rf = RandomForestClassifier(class_weight= 'balanced', random_state=42)\n",
    "rf.fit(X_train, y_train)"
   ]
  },
  {
   "cell_type": "code",
   "execution_count": 44,
   "metadata": {},
   "outputs": [],
   "source": [
    "rf_y_pred = rf.predict(X_test)"
   ]
  },
  {
   "cell_type": "code",
   "execution_count": 45,
   "metadata": {},
   "outputs": [
    {
     "name": "stdout",
     "output_type": "stream",
     "text": [
      "Accuracy: 0.933\n"
     ]
    }
   ],
   "source": [
    "accuracy = accuracy_score(y_test, rf_y_pred)\n",
    "print(f\"Accuracy: {accuracy:.3f}\")"
   ]
  },
  {
   "cell_type": "code",
   "execution_count": 46,
   "metadata": {},
   "outputs": [
    {
     "data": {
      "image/png": "[encoded data removed]",
      "text/plain": [
       "<Figure size 432x288 with 2 Axes>"
      ]
     },
     "metadata": {
      "needs_background": "light"
     },
     "output_type": "display_data"
    }
   ],
   "source": [
    "# Creating a confusion matrix\n",
    "cm = confusion_matrix(y_test, rf_y_pred)\n",
    "\n",
    "ConfusionMatrixDisplay(confusion_matrix=cm).plot();"
   ]
  },
  {
   "cell_type": "code",
   "execution_count": 47,
   "metadata": {},
   "outputs": [
    {
     "name": "stdout",
     "output_type": "stream",
     "text": [
      "False Positive Rate: 0.316\n",
      "Specificity: 0.684\n",
      "Recall: 1.000\n",
      "Precision: 0.922\n",
      "F1 Score: 0.959\n"
     ]
    }
   ],
   "source": [
    "# The individual components of the confusion matrix are extracted\n",
    "tn, fp, fn, tp = confusion_matrix(y_test, rf_y_pred).ravel()\n",
    "\n",
    "# The evaluation metrics are calculated from the confusion matrix\n",
    "false_positive_rate = fp / (fp + tn)\n",
    "specificity = tn / (tn + fp)\n",
    "recall = recall_score(y_test, rf_y_pred)\n",
    "precision = precision_score(y_test, rf_y_pred)\n",
    "f1 = f1_score(y_test, rf_y_pred)\n",
    "\n",
    "# Print metrics\n",
    "print(f\"False Positive Rate: {false_positive_rate:.3f}\")\n",
    "print(f\"Specificity: {specificity:.3f}\")\n",
    "print(f\"Recall: {recall:.3f}\")\n",
    "print(f\"Precision: {precision:.3f}\")\n",
    "print(f\"F1 Score: {f1:.3f}\")"
   ]
  },
  {
   "cell_type": "markdown",
   "metadata": {},
   "source": [
    "## Logistic Regression "
   ]
  },
  {
   "cell_type": "code",
   "execution_count": 48,
   "metadata": {},
   "outputs": [
    {
     "name": "stderr",
     "output_type": "stream",
     "text": [
      "C:\\Users\\badbo\\anaconda3\\lib\\site-packages\\sklearn\\linear_model\\_logistic.py:763: ConvergenceWarning: lbfgs failed to converge (status=1):\n",
      "STOP: TOTAL NO. of ITERATIONS REACHED LIMIT.\n",
      "\n",
      "Increase the number of iterations (max_iter) or scale the data as shown in:\n",
      "    https://scikit-learn.org/stable/modules/preprocessing.html\n",
      "Please also refer to the documentation for alternative solver options:\n",
      "    https://scikit-learn.org/stable/modules/linear_model.html#logistic-regression\n",
      "  n_iter_i = _check_optimize_result(\n"
     ]
    }
   ],
   "source": [
    "logreg = LogisticRegression(class_weight = 'balanced', random_state=42)\n",
    "logreg.fit(X_train, y_train)\n",
    "logreg_y_pred = logreg.predict(X_test)"
   ]
  },
  {
   "cell_type": "code",
   "execution_count": 49,
   "metadata": {},
   "outputs": [
    {
     "name": "stdout",
     "output_type": "stream",
     "text": [
      "Accuracy: 0.966\n"
     ]
    }
   ],
   "source": [
    "accuracy = accuracy_score(y_test, logreg_y_pred)\n",
    "print(f\"Accuracy: {accuracy:.3f}\")"
   ]
  },
  {
   "cell_type": "code",
   "execution_count": 50,
   "metadata": {},
   "outputs": [
    {
     "data": {
      "image/png": "[encoded data removed]",
      "text/plain": [
       "<Figure size 432x288 with 2 Axes>"
      ]
     },
     "metadata": {
      "needs_background": "light"
     },
     "output_type": "display_data"
    }
   ],
   "source": [
    "# Creating a confusion matrix\n",
    "cm = confusion_matrix(y_test, logreg_y_pred)\n",
    "\n",
    "ConfusionMatrixDisplay(confusion_matrix=cm).plot();"
   ]
  },
  {
   "cell_type": "code",
   "execution_count": 51,
   "metadata": {},
   "outputs": [
    {
     "name": "stdout",
     "output_type": "stream",
     "text": [
      "False Positive Rate: 0.034\n",
      "Specificity: 0.966\n",
      "Recall: 0.966\n",
      "Precision: 0.991\n",
      "F1 Score: 0.978\n"
     ]
    }
   ],
   "source": [
    "# The individual components of the confusion matrix are extracted\n",
    "tn, fp, fn, tp = confusion_matrix(y_test, logreg_y_pred).ravel()\n",
    "\n",
    "# The evaluation metrics are calculated from the confusion matrix\n",
    "false_positive_rate = fp / (fp + tn)\n",
    "specificity = tn / (tn + fp)\n",
    "recall = recall_score(y_test, logreg_y_pred)\n",
    "precision = precision_score(y_test, logreg_y_pred)\n",
    "f1 = f1_score(y_test, logreg_y_pred)\n",
    "\n",
    "# Print metrics\n",
    "print(f\"False Positive Rate: {false_positive_rate:.3f}\")\n",
    "print(f\"Specificity: {specificity:.3f}\")\n",
    "print(f\"Recall: {recall:.3f}\")\n",
    "print(f\"Precision: {precision:.3f}\")\n",
    "print(f\"F1 Score: {f1:.3f}\")"
   ]
  },
  {
   "cell_type": "markdown",
   "metadata": {},
   "source": [
    "## XGBoost"
   ]
  },
  {
   "cell_type": "code",
   "execution_count": 52,
   "metadata": {},
   "outputs": [],
   "source": [
    "# Compute the ratio of negative to positive samples\n",
    "ratio_of_negative_to_positive_samples = len(y_train[y_train == 0]) / len(y_train[y_train == 1])\n",
    "\n",
    "# Train the model\n",
    "XGBoost_model = XGBClassifier(objective = 'binary:logistic', eval_metric = 'error', scale_pos_weight = ratio_of_negative_to_positive_samples, random_state =42)"
   ]
  },
  {
   "cell_type": "code",
   "execution_count": 53,
   "metadata": {},
   "outputs": [
    {
     "data": {
      "text/plain": [
       "XGBClassifier(base_score=None, booster=None, callbacks=None,\n",
       "              colsample_bylevel=None, colsample_bynode=None,\n",
       "              colsample_bytree=None, device=None, early_stopping_rounds=None,\n",
       "              enable_categorical=False, eval_metric='error', feature_types=None,\n",
       "              gamma=None, grow_policy=None, importance_type=None,\n",
       "              interaction_constraints=None, learning_rate=None, max_bin=None,\n",
       "              max_cat_threshold=None, max_cat_to_onehot=None,\n",
       "              max_delta_step=None, max_depth=None, max_leaves=None,\n",
       "              min_child_weight=None, missing=nan, monotone_constraints=None,\n",
       "              multi_strategy=None, n_estimators=None, n_jobs=None,\n",
       "              num_parallel_tree=None, random_state=42, ...)"
      ]
     },
     "execution_count": 53,
     "metadata": {},
     "output_type": "execute_result"
    }
   ],
   "source": [
    "XGBoost_model.fit(X_train, y_train)"
   ]
  },
  {
   "cell_type": "code",
   "execution_count": 54,
   "metadata": {},
   "outputs": [],
   "source": [
    "XGBoost_y_pred = XGBoost_model.predict(X_test)"
   ]
  },
  {
   "cell_type": "code",
   "execution_count": 55,
   "metadata": {},
   "outputs": [
    {
     "name": "stdout",
     "output_type": "stream",
     "text": [
      "Accuracy: 0.976\n"
     ]
    }
   ],
   "source": [
    "accuracy = accuracy_score(y_test, XGBoost_y_pred)\n",
    "print(f\"Accuracy: {accuracy:.3f}\")"
   ]
  },
  {
   "cell_type": "code",
   "execution_count": 56,
   "metadata": {},
   "outputs": [
    {
     "data": {
      "image/png": "[encoded data removed]",
      "text/plain": [
       "<Figure size 432x288 with 2 Axes>"
      ]
     },
     "metadata": {
      "needs_background": "light"
     },
     "output_type": "display_data"
    }
   ],
   "source": [
    "# Creating a confusion matrix\n",
    "cm = confusion_matrix(y_test, XGBoost_y_pred)\n",
    "\n",
    "ConfusionMatrixDisplay(confusion_matrix=cm).plot();"
   ]
  },
  {
   "cell_type": "code",
   "execution_count": 57,
   "metadata": {},
   "outputs": [
    {
     "name": "stdout",
     "output_type": "stream",
     "text": [
      "False Positive Rate: 0.068\n",
      "Specificity: 0.932\n",
      "Recall: 0.989\n",
      "Precision: 0.982\n",
      "F1 Score: 0.985\n"
     ]
    }
   ],
   "source": [
    "# The individual components of the confusion matrix are extracted\n",
    "tn, fp, fn, tp = confusion_matrix(y_test, XGBoost_y_pred).ravel()\n",
    "\n",
    "# The evaluation metrics are calculated from the confusion matrix\n",
    "false_positive_rate = fp / (fp + tn)\n",
    "specificity = tn / (tn + fp)\n",
    "recall = recall_score(y_test, XGBoost_y_pred)\n",
    "precision = precision_score(y_test, XGBoost_y_pred)\n",
    "f1 = f1_score(y_test, XGBoost_y_pred)\n",
    "\n",
    "# Print metrics\n",
    "print(f\"False Positive Rate: {false_positive_rate:.3f}\")\n",
    "print(f\"Specificity: {specificity:.3f}\")\n",
    "print(f\"Recall: {recall:.3f}\")\n",
    "print(f\"Precision: {precision:.3f}\")\n",
    "print(f\"F1 Score: {f1:.3f}\")"
   ]
  },
  {
   "cell_type": "markdown",
   "metadata": {},
   "source": [
    "## SVM"
   ]
  },
  {
   "cell_type": "code",
   "execution_count": 58,
   "metadata": {},
   "outputs": [],
   "source": [
    "#Creating an SVM Classifier from the imported module a svm Classifier\n",
    "clf = svm.SVC(kernel='linear') # Linear Kernel\n",
    "\n",
    "#Training the classifier with previously defined training dataset\n",
    "clf.fit(X_train, y_train)\n",
    "\n",
    "#Creating predictions using the test data\n",
    "clf_y_pred = clf.predict(X_test)\n"
   ]
  },
  {
   "cell_type": "code",
   "execution_count": 59,
   "metadata": {},
   "outputs": [
    {
     "name": "stdout",
     "output_type": "stream",
     "text": [
      "Accuracy: 0.957\n"
     ]
    }
   ],
   "source": [
    "accuracy = accuracy_score(y_test, clf_y_pred)\n",
    "print(f\"Accuracy: {accuracy:.3f}\")"
   ]
  },
  {
   "cell_type": "code",
   "execution_count": 60,
   "metadata": {},
   "outputs": [
    {
     "data": {
      "image/png": "[encoded data removed]",
      "text/plain": [
       "<Figure size 432x288 with 2 Axes>"
      ]
     },
     "metadata": {
      "needs_background": "light"
     },
     "output_type": "display_data"
    }
   ],
   "source": [
    "# Creating a confusion matrix\n",
    "cm = confusion_matrix(y_test, clf_y_pred)\n",
    "\n",
    "ConfusionMatrixDisplay(confusion_matrix=cm).plot();"
   ]
  },
  {
   "cell_type": "code",
   "execution_count": 61,
   "metadata": {},
   "outputs": [
    {
     "name": "stdout",
     "output_type": "stream",
     "text": [
      "False Positive Rate: 0.085\n",
      "Specificity: 0.915\n",
      "Recall: 0.968\n",
      "Precision: 0.977\n",
      "F1 Score: 0.972\n"
     ]
    }
   ],
   "source": [
    "# The individual components of the confusion matrix are extracted\n",
    "tn, fp, fn, tp = confusion_matrix(y_test, clf_y_pred).ravel()\n",
    "\n",
    "# The evaluation metrics are calculated from the confusion matrix\n",
    "false_positive_rate = fp / (fp + tn)\n",
    "specificity = tn / (tn + fp)\n",
    "recall = recall_score(y_test, clf_y_pred)\n",
    "precision = precision_score(y_test, clf_y_pred)\n",
    "f1 = f1_score(y_test, clf_y_pred)\n",
    "\n",
    "# Print metrics\n",
    "print(f\"False Positive Rate: {false_positive_rate:.3f}\")\n",
    "print(f\"Specificity: {specificity:.3f}\")\n",
    "print(f\"Recall: {recall:.3f}\")\n",
    "print(f\"Precision: {precision:.3f}\")\n",
    "print(f\"F1 Score: {f1:.3f}\")"
   ]
  },
  {
   "cell_type": "markdown",
   "metadata": {},
   "source": [
    "# Hyperparameter Tuning"
   ]
  },
  {
   "cell_type": "markdown",
   "metadata": {},
   "source": [
    "Due to the class imbalance in the dataset, the F1 score was selected as the primary evaluation metric. The XGBoost model achieved the highest F1 score of 0.985. To explore potential improvements, hyperparameter tuning was conducted using Randomized Search. This method was chosen for its efficiency and cost-effectiveness."
   ]
  },
  {
   "cell_type": "code",
   "execution_count": 62,
   "metadata": {},
   "outputs": [],
   "source": [
    "# The list of parameter distributions is defined\n",
    "param_dist = {\n",
    "    'n_estimators': randint(50, 200),\n",
    "    'max_depth': randint(3, 10),\n",
    "    'learning_rate': uniform(0.01, 0.3),\n",
    "    'subsample': uniform(0.8, 0.2),\n",
    "    'colsample_bytree': uniform(0.8, 0.2),\n",
    "    'scale_pos_weight': [ratio_of_negative_to_positive_samples]\n",
    "}"
   ]
  },
  {
   "cell_type": "code",
   "execution_count": 63,
   "metadata": {},
   "outputs": [
    {
     "name": "stdout",
     "output_type": "stream",
     "text": [
      "Fitting 5 folds for each of 100 candidates, totalling 500 fits\n"
     ]
    },
    {
     "data": {
      "text/plain": [
       "RandomizedSearchCV(cv=5,\n",
       "                   estimator=XGBClassifier(base_score=None, booster=None,\n",
       "                                           callbacks=None,\n",
       "                                           colsample_bylevel=None,\n",
       "                                           colsample_bynode=None,\n",
       "                                           colsample_bytree=None, device=None,\n",
       "                                           early_stopping_rounds=None,\n",
       "                                           enable_categorical=False,\n",
       "                                           eval_metric='error',\n",
       "                                           feature_types=None, gamma=None,\n",
       "                                           grow_policy=None,\n",
       "                                           importance_type=None,\n",
       "                                           interaction_constraints=None,\n",
       "                                           learning_r...\n",
       "                                        'max_depth': <scipy.stats._distn_infrastructure.rv_discrete_frozen object at 0x000002B2F836DAF0>,\n",
       "                                        'n_estimators': <scipy.stats._distn_infrastructure.rv_discrete_frozen object at 0x000002B2F836DD90>,\n",
       "                                        'scale_pos_weight': [0.2425436128306134],\n",
       "                                        'subsample': <scipy.stats._distn_infrastructure.rv_continuous_frozen object at 0x000002B2F837C040>},\n",
       "                   random_state=42, scoring='f1', verbose=2)"
      ]
     },
     "execution_count": 63,
     "metadata": {},
     "output_type": "execute_result"
    }
   ],
   "source": [
    "# A randomised search is performed \n",
    "random_search = RandomizedSearchCV(estimator=XGBoost_model, param_distributions=param_dist,\n",
    "                                   n_iter=100, scoring='f1', cv=5, n_jobs=-1, verbose=2, random_state=42)\n",
    "random_search.fit(X_train, y_train)"
   ]
  },
  {
   "cell_type": "code",
   "execution_count": 64,
   "metadata": {},
   "outputs": [
    {
     "name": "stdout",
     "output_type": "stream",
     "text": [
      "Best Parameters: {'colsample_bytree': 0.9275114942710427, 'learning_rate': 0.27616382277289797, 'max_depth': 3, 'n_estimators': 150, 'scale_pos_weight': 0.2425436128306134, 'subsample': 0.9943424190778208}\n",
      "Best F1 Score: 0.9899\n"
     ]
    }
   ],
   "source": [
    "# Get the best parameters and score\n",
    "best_params = random_search.best_params_\n",
    "best_score = random_search.best_score_\n",
    "\n",
    "print(f\"Best Parameters: {best_params}\")\n",
    "print(f\"Best F1 Score: {best_score:.4f}\")"
   ]
  },
  {
   "cell_type": "code",
   "execution_count": 65,
   "metadata": {},
   "outputs": [],
   "source": [
    "best_model = random_search.best_estimator_"
   ]
  },
  {
   "cell_type": "markdown",
   "metadata": {},
   "source": [
    "# Feature Importance"
   ]
  },
  {
   "cell_type": "markdown",
   "metadata": {},
   "source": [
    "To evaluate feature importance, fortunately XGBoost provides  a built-in function to plot features ordered by their importance. There is an ‘importance_type’ parameter which lets you select between the arguments gain, weight and cover. Gain is the improvement in accuracy brought by a feature to the branches it is on. Weight or frequency represents the number of times a feature appears in the trees of the model. Cover represents the average coverage of splits which use the feature, where coverage is defined as the number of samples affected by the split. All these parameters are shown below for comprehensive analysis."
   ]
  },
  {
   "cell_type": "code",
   "execution_count": 70,
   "metadata": {},
   "outputs": [
    {
     "data": {
      "image/png": "[encoded data removed]",
      "text/plain": [
       "<Figure size 432x288 with 1 Axes>"
      ]
     },
     "metadata": {
      "needs_background": "light"
     },
     "output_type": "display_data"
    }
   ],
   "source": [
    "# The plot feature importance using gain\n",
    "plot_importance(best_model, max_num_features=3, importance_type='gain', values_format= \"{v:.0f}\")\n",
    "plt.title(\"Top 3 Features by Gain Importance\")\n",
    "plt.show()"
   ]
  },
  {
   "cell_type": "code",
   "execution_count": 71,
   "metadata": {},
   "outputs": [
    {
     "data": {
      "image/png": "[encoded data removed]",
      "text/plain": [
       "<Figure size 432x288 with 1 Axes>"
      ]
     },
     "metadata": {
      "needs_background": "light"
     },
     "output_type": "display_data"
    }
   ],
   "source": [
    "# The plot feature importance using weight/frequency\n",
    "plot_importance(best_model, max_num_features=3, importance_type='weight')\n",
    "plt.title(\"Top 3 Features by Weight Importance\")\n",
    "plt.show()"
   ]
  },
  {
   "cell_type": "code",
   "execution_count": 72,
   "metadata": {},
   "outputs": [
    {
     "data": {
      "image/png": "[encoded data removed]",
      "text/plain": [
       "<Figure size 432x288 with 1 Axes>"
      ]
     },
     "metadata": {
      "needs_background": "light"
     },
     "output_type": "display_data"
    }
   ],
   "source": [
    "# The plot feature importance using cover\n",
    "plot_importance(best_model, max_num_features=3, importance_type='cover', values_format= \"{v:.0f}\")\n",
    "plt.title(\"Top 3 Features by Cover Importance\")\n",
    "plt.show()"
   ]
  },
  {
   "cell_type": "markdown",
   "metadata": {},
   "source": [
    "# Deployment"
   ]
  },
  {
   "cell_type": "code",
   "execution_count": 69,
   "metadata": {},
   "outputs": [
    {
     "data": {
      "text/plain": [
       "['model.pkl']"
      ]
     },
     "execution_count": 69,
     "metadata": {},
     "output_type": "execute_result"
    }
   ],
   "source": [
    "joblib.dump(best_model, 'model.pkl')"
   ]
  }
 ],
 "metadata": {
  "kernelspec": {
   "display_name": "Python 3",
   "language": "python",
   "name": "python3"
  },
  "language_info": {
   "codemirror_mode": {
    "name": "ipython",
    "version": 3
   },
   "file_extension": ".py",
   "mimetype": "text/x-python",
   "name": "python",
   "nbconvert_exporter": "python",
   "pygments_lexer": "ipython3",
   "version": "3.8.3"
  }
 },
 "nbformat": 4,
 "nbformat_minor": 4
}
